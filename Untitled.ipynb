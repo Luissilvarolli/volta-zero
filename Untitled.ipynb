{
 "cells": [
  {
   "cell_type": "code",
   "execution_count": 1,
   "id": "c07feb87",
   "metadata": {},
   "outputs": [
    {
     "data": {
      "text/plain": [
       "456"
      ]
     },
     "execution_count": 1,
     "metadata": {},
     "output_type": "execute_result"
    }
   ],
   "source": [
    "152*3"
   ]
  },
  {
   "cell_type": "markdown",
   "id": "3b0e7ba3",
   "metadata": {},
   "source": [
    "Teste de texto em makdown"
   ]
  },
  {
   "cell_type": "markdown",
   "id": "fac79138",
   "metadata": {},
   "source": [
    "# Exemplo de texto\n",
    "célula com título em *markdown*"
   ]
  },
  {
   "cell_type": "code",
   "execution_count": null,
   "id": "8261bcaa",
   "metadata": {},
   "outputs": [],
   "source": []
  }
 ],
 "metadata": {
  "kernelspec": {
   "display_name": "Python 3",
   "language": "python",
   "name": "python3"
  },
  "language_info": {
   "codemirror_mode": {
    "name": "ipython",
    "version": 3
   },
   "file_extension": ".py",
   "mimetype": "text/x-python",
   "name": "python",
   "nbconvert_exporter": "python",
   "pygments_lexer": "ipython3",
   "version": "3.8.8"
  }
 },
 "nbformat": 4,
 "nbformat_minor": 5
}
